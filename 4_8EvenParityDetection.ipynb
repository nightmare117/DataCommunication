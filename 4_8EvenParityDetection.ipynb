{
  "nbformat": 4,
  "nbformat_minor": 0,
  "metadata": {
    "colab": {
      "name": "4_8EvenParityDetection.ipynb",
      "provenance": [],
      "authorship_tag": "ABX9TyPo0rHO/W4WHP3pD0MCCjfW",
      "include_colab_link": true
    },
    "kernelspec": {
      "name": "python3",
      "display_name": "Python 3"
    },
    "language_info": {
      "name": "python"
    }
  },
  "cells": [
    {
      "cell_type": "markdown",
      "metadata": {
        "id": "view-in-github",
        "colab_type": "text"
      },
      "source": [
        "<a href=\"https://colab.research.google.com/github/nightmare117/DataCommunication/blob/main/4_8EvenParityDetection.ipynb\" target=\"_parent\"><img src=\"https://colab.research.google.com/assets/colab-badge.svg\" alt=\"Open In Colab\"/></a>"
      ]
    },
    {
      "cell_type": "code",
      "execution_count": 2,
      "metadata": {
        "colab": {
          "base_uri": "https://localhost:8080/"
        },
        "id": "sf-xrHT0maFY",
        "outputId": "cb4987d9-8026-4e23-a03a-4f36500dba7b"
      },
      "outputs": [
        {
          "output_type": "stream",
          "name": "stdout",
          "text": [
            "[[1, 0, 1, 0, 1, 0, 0, 1, 0], [1, 0, 1, 1, 1, 0, 0, 1, 1], [1, 0, 1, 0, 1, 1, 0, 1, 1], [1, 1, 1, 0, 1, 0, 0, 0, 0], [0, 1, 1, 0, 0, 1, 1, 0, 0]]\n",
            "This recieved data has no error ? True\n",
            "This recieved data has no error ? False\n"
          ]
        }
      ],
      "source": [
        "#Write a program for 4 x 8 block even parity error detection.\n",
        "\n",
        "\n",
        "\n",
        "#Encode Function\n",
        "\n",
        "def enc(word,ROW,COL):\n",
        "  codeword = []\n",
        "  for i in range(ROW):         \n",
        "    a = []\n",
        "    x = 0\n",
        "    for j in range(COL):     \n",
        "         a.append(word[i][j])\n",
        "         x = x^word[i][j]\n",
        "    a.append(x)\n",
        "    codeword.append(a)\n",
        "  codeword.append([])\n",
        "  for j in range(COL+1):         \n",
        "      c = 0\n",
        "      for i in range(ROW):     \n",
        "          x = x^codeword[i][j]\n",
        "      codeword[ROW].append(x)\n",
        "  return codeword\n",
        "\n",
        "\n",
        "\n",
        "#Decode Function\n",
        "\n",
        "def dec(codeword,ROW,COL):\n",
        "  for i in range(ROW):\n",
        "    x = 0\n",
        "    for j in range(COL+1):\n",
        "         x = x^codeword[i][j]\n",
        "    if(x==1) :\n",
        "      return False\n",
        "  for j in range(COL):         \n",
        "        x = 0\n",
        "        for i in range(ROW+1):     \n",
        "            x = x^codeword[i][j]\n",
        "        if(x==1) :\n",
        "            return False\n",
        "  return True\n",
        "\n",
        "\n",
        "word = [[1,0,1,0,1,0,0,1],[1,0,1,1,1,0,0,1],[1,0,1,0,1,1,0,1],[1,1,1,0,1,0,0,0]]\n",
        "print(enc(word,4,8))\n",
        "check_error1 = [[1,0,1,0,1,0,0,1,0],[1,0,1,1,1,0,0,1,1],[1,0,1,0,1,1,0,1,1],[1,1,1,0,1,0,0,0,0],[0,1,0,1,0,1,0,1,0]]\n",
        "check_error2 = [[1,0,1,0,1,0,0,1,0],[1,0,1,1,1,0,0,1,1],[1,0,1,0,1,1,0,1,1],[1,1,1,0,1,0,0,0,1],[0,1,0,1,0,1,0,1,0]]\n",
        "print(\"This recieved data has no error ? \"+str(dec(check_error1,4,8)))\n",
        "print(\"This recieved data has no error ? \"+str(dec(check_error2,4,8)))"
      ]
    }
  ]
}