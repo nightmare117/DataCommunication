{
  "nbformat": 4,
  "nbformat_minor": 0,
  "metadata": {
    "colab": {
      "name": "CRCimplementation.ipynb",
      "provenance": [],
      "collapsed_sections": [],
      "authorship_tag": "ABX9TyO9eSOtINuQzR5kHLhktdbO",
      "include_colab_link": true
    },
    "kernelspec": {
      "name": "python3",
      "display_name": "Python 3"
    },
    "language_info": {
      "name": "python"
    }
  },
  "cells": [
    {
      "cell_type": "markdown",
      "metadata": {
        "id": "view-in-github",
        "colab_type": "text"
      },
      "source": [
        "<a href=\"https://colab.research.google.com/github/nightmare117/DataCommunication/blob/main/CRCimplementation.ipynb\" target=\"_parent\"><img src=\"https://colab.research.google.com/assets/colab-badge.svg\" alt=\"Open In Colab\"/></a>"
      ]
    },
    {
      "cell_type": "code",
      "execution_count": 2,
      "metadata": {
        "colab": {
          "base_uri": "https://localhost:8080/"
        },
        "id": "3I_vv0iNhf9-",
        "outputId": "8c7abeaa-f734-4a2d-ce6e-ea966ebad319"
      },
      "outputs": [
        {
          "output_type": "stream",
          "name": "stdout",
          "text": [
            "Decoded codeword 100100001\n",
            "Recieved codeword 1 has no error ? True\n",
            "Recieved codeword 2 has no error ? False\n"
          ]
        }
      ],
      "source": [
        "# Write a program to implement a CRC (Cyclic Redundancy Code) error detection model.\n",
        "\n",
        "\n",
        "\n",
        "#ENCODE Function\n",
        "\n",
        "def enc(word,divisor):\n",
        "  dividend = word.ljust(len(word)+len(divisor)-1,\"0\")\n",
        "  dividend=list(dividend)\n",
        "  for i in range(len(dividend)):\n",
        "    if(dividend[i]=='0'):\n",
        "      continue;\n",
        "    if(len(divisor)+i<=len(dividend)):\n",
        "      for j in range(len(divisor)):\n",
        "        dividend[i+j]=str(int(dividend[i+j])^int(divisor[j]))\n",
        "    else :\n",
        "      break;\n",
        "  dividend = ''.join(dividend)\n",
        "  reminder = dividend[len(dividend)-len(divisor)+1:len(dividend)]\n",
        "  codeword = word+reminder\n",
        "  return codeword;\n",
        "\n",
        "\n",
        "\n",
        "#DECODE FUNCTION\n",
        "\n",
        "def dec(codeword,divisor):\n",
        "  codeword=list(codeword)\n",
        "  for i in range(len(codeword)):\n",
        "    if(codeword[i]=='0'):\n",
        "      continue;\n",
        "    if(len(divisor)+i<=len(codeword)):\n",
        "      for j in range(len(divisor)):\n",
        "        codeword[i+j]=str(int(codeword[i+j])^int(divisor[j]))\n",
        "    else :\n",
        "      break;\n",
        "  return all(v == '0' for v in codeword);\n",
        "\n",
        "print(\"Decoded codeword \" + enc(\"100100\",\"1101\"))\n",
        "print(\"Recieved codeword 1 has no error ? \" + str(dec(\"100100001\",\"1101\")))\n",
        "print(\"Recieved codeword 2 has no error ? \" + str(dec(\"100100000\",\"1101\")))"
      ]
    }
  ]
}